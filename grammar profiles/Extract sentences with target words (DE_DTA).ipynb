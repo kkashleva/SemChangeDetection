{
 "cells": [
  {
   "cell_type": "code",
   "execution_count": 41,
   "id": "b146278f",
   "metadata": {},
   "outputs": [],
   "source": [
    "import re"
   ]
  },
  {
   "cell_type": "code",
   "execution_count": 42,
   "id": "cac56a09",
   "metadata": {},
   "outputs": [],
   "source": [
    "texts = open('dta_cleaned.txt', 'r', encoding='utf8').read().split('\\n')"
   ]
  },
  {
   "cell_type": "code",
   "execution_count": 43,
   "id": "2cb1004e",
   "metadata": {},
   "outputs": [],
   "source": [
    "dta_targets = open('dta_targets.txt', 'w', encoding='utf8') # for sentences from DTA with target words"
   ]
  },
  {
   "cell_type": "code",
   "execution_count": 44,
   "id": "495b21ee",
   "metadata": {},
   "outputs": [],
   "source": [
    "# abbauen\n",
    "\n",
    "sents_dta_TARGET = []\n",
    "\n",
    "for i in range(0, len(texts)):\n",
    "    sent = texts[i]\n",
    "    if bool(re.findall('TARGET FORMS', sent)) == True: # searshing for all the forms of a target word separated with |\n",
    "        sents_dta_TARGET.append(sent)\n",
    "        i += 1\n",
    "\n",
    "for i in range(0, len(sents_dta_TARGET)):\n",
    "    dta_targets.write(sents_dta_TARGET[i] + '\\n') # writing sentences into a txt.file with a target word with \\n sep"
   ]
  },
  {
   "cell_type": "code",
   "execution_count": null,
   "id": "0b8283aa",
   "metadata": {},
   "outputs": [],
   "source": []
  }
 ],
 "metadata": {
  "kernelspec": {
   "display_name": "Python 3",
   "language": "python",
   "name": "python3"
  },
  "language_info": {
   "codemirror_mode": {
    "name": "ipython",
    "version": 3
   },
   "file_extension": ".py",
   "mimetype": "text/x-python",
   "name": "python",
   "nbconvert_exporter": "python",
   "pygments_lexer": "ipython3",
   "version": "3.8.8"
  }
 },
 "nbformat": 4,
 "nbformat_minor": 5
}
